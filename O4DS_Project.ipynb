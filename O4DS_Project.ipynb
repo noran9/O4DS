{
  "nbformat": 4,
  "nbformat_minor": 0,
  "metadata": {
    "colab": {
      "name": "O4DS-Project.ipynb",
      "provenance": [],
      "collapsed_sections": [
        "NuX8szieCd-A"
      ]
    },
    "kernelspec": {
      "display_name": "Python 3",
      "name": "python3"
    },
    "language_info": {
      "name": "python"
    }
  },
  "cells": [
    {
      "cell_type": "markdown",
      "metadata": {
        "id": "F_WD7NSV_lLa"
      },
      "source": [
        "**Choose dataset**"
      ]
    },
    {
      "cell_type": "code",
      "metadata": {
        "colab": {
          "base_uri": "https://localhost:8080/",
          "height": 204
        },
        "id": "p2M7z1EntSHV",
        "outputId": "30d746e2-b751-4609-e36e-572a6419d031"
      },
      "source": [
        "import numpy as np\n",
        "import pandas as pd\n",
        "from sklearn.model_selection import train_test_split\n",
        "import math\n",
        "import time\n",
        "\n",
        "# Load Dataset\n",
        "df = pd.read_csv('./dataset.txt', header=None)\n",
        "df = df.rename(columns={10: 'y'})\n",
        "df.head()"
      ],
      "execution_count": 109,
      "outputs": [
        {
          "output_type": "execute_result",
          "data": {
            "text/html": [
              "<div>\n",
              "<style scoped>\n",
              "    .dataframe tbody tr th:only-of-type {\n",
              "        vertical-align: middle;\n",
              "    }\n",
              "\n",
              "    .dataframe tbody tr th {\n",
              "        vertical-align: top;\n",
              "    }\n",
              "\n",
              "    .dataframe thead th {\n",
              "        text-align: right;\n",
              "    }\n",
              "</style>\n",
              "<table border=\"1\" class=\"dataframe\">\n",
              "  <thead>\n",
              "    <tr style=\"text-align: right;\">\n",
              "      <th></th>\n",
              "      <th>0</th>\n",
              "      <th>1</th>\n",
              "      <th>2</th>\n",
              "      <th>3</th>\n",
              "      <th>4</th>\n",
              "      <th>5</th>\n",
              "      <th>6</th>\n",
              "      <th>7</th>\n",
              "      <th>8</th>\n",
              "      <th>9</th>\n",
              "      <th>y</th>\n",
              "    </tr>\n",
              "  </thead>\n",
              "  <tbody>\n",
              "    <tr>\n",
              "      <th>0</th>\n",
              "      <td>15</td>\n",
              "      <td>70</td>\n",
              "      <td>39</td>\n",
              "      <td>-970</td>\n",
              "      <td>0</td>\n",
              "      <td>0</td>\n",
              "      <td>0</td>\n",
              "      <td>0</td>\n",
              "      <td>0</td>\n",
              "      <td>0</td>\n",
              "      <td>0</td>\n",
              "    </tr>\n",
              "    <tr>\n",
              "      <th>1</th>\n",
              "      <td>31</td>\n",
              "      <td>70</td>\n",
              "      <td>39</td>\n",
              "      <td>-970</td>\n",
              "      <td>0</td>\n",
              "      <td>0</td>\n",
              "      <td>0</td>\n",
              "      <td>0</td>\n",
              "      <td>0</td>\n",
              "      <td>0</td>\n",
              "      <td>0</td>\n",
              "    </tr>\n",
              "    <tr>\n",
              "      <th>2</th>\n",
              "      <td>46</td>\n",
              "      <td>60</td>\n",
              "      <td>49</td>\n",
              "      <td>-960</td>\n",
              "      <td>0</td>\n",
              "      <td>0</td>\n",
              "      <td>0</td>\n",
              "      <td>0</td>\n",
              "      <td>0</td>\n",
              "      <td>0</td>\n",
              "      <td>0</td>\n",
              "    </tr>\n",
              "    <tr>\n",
              "      <th>3</th>\n",
              "      <td>62</td>\n",
              "      <td>60</td>\n",
              "      <td>49</td>\n",
              "      <td>-960</td>\n",
              "      <td>0</td>\n",
              "      <td>0</td>\n",
              "      <td>0</td>\n",
              "      <td>0</td>\n",
              "      <td>0</td>\n",
              "      <td>0</td>\n",
              "      <td>0</td>\n",
              "    </tr>\n",
              "    <tr>\n",
              "      <th>4</th>\n",
              "      <td>78</td>\n",
              "      <td>50</td>\n",
              "      <td>39</td>\n",
              "      <td>-960</td>\n",
              "      <td>0</td>\n",
              "      <td>0</td>\n",
              "      <td>0</td>\n",
              "      <td>0</td>\n",
              "      <td>0</td>\n",
              "      <td>0</td>\n",
              "      <td>0</td>\n",
              "    </tr>\n",
              "  </tbody>\n",
              "</table>\n",
              "</div>"
            ],
            "text/plain": [
              "    0   1   2    3  4  5  6  7  8  9  y\n",
              "0  15  70  39 -970  0  0  0  0  0  0  0\n",
              "1  31  70  39 -970  0  0  0  0  0  0  0\n",
              "2  46  60  49 -960  0  0  0  0  0  0  0\n",
              "3  62  60  49 -960  0  0  0  0  0  0  0\n",
              "4  78  50  39 -960  0  0  0  0  0  0  0"
            ]
          },
          "metadata": {
            "tags": []
          },
          "execution_count": 109
        }
      ]
    },
    {
      "cell_type": "code",
      "metadata": {
        "id": "dyyHGfoyvIUb",
        "colab": {
          "base_uri": "https://localhost:8080/",
          "height": 204
        },
        "outputId": "3947312d-2701-45ca-da34-c6e1176ceb56"
      },
      "source": [
        "# Remove values annotated with 0 (not part of the experiment)\n",
        "# Set class for anomalies to 1 and for other samples 0\n",
        "\n",
        "df.drop(df[df.y == 0].index, inplace = True)\n",
        "df['y'].replace(to_replace=[1], value=0, inplace=True)\n",
        "df['y'].replace(to_replace=[2], value=1, inplace=True)\n",
        "df.reset_index(inplace=True, drop=True)\n",
        "df.head()\n",
        "print(len(df))"
      ],
      "execution_count": 107,
      "outputs": [
        {
          "output_type": "execute_result",
          "data": {
            "text/html": [
              "<div>\n",
              "<style scoped>\n",
              "    .dataframe tbody tr th:only-of-type {\n",
              "        vertical-align: middle;\n",
              "    }\n",
              "\n",
              "    .dataframe tbody tr th {\n",
              "        vertical-align: top;\n",
              "    }\n",
              "\n",
              "    .dataframe thead th {\n",
              "        text-align: right;\n",
              "    }\n",
              "</style>\n",
              "<table border=\"1\" class=\"dataframe\">\n",
              "  <thead>\n",
              "    <tr style=\"text-align: right;\">\n",
              "      <th></th>\n",
              "      <th>0</th>\n",
              "      <th>1</th>\n",
              "      <th>2</th>\n",
              "      <th>3</th>\n",
              "      <th>4</th>\n",
              "      <th>5</th>\n",
              "      <th>6</th>\n",
              "      <th>7</th>\n",
              "      <th>8</th>\n",
              "      <th>9</th>\n",
              "      <th>y</th>\n",
              "    </tr>\n",
              "  </thead>\n",
              "  <tbody>\n",
              "    <tr>\n",
              "      <th>0</th>\n",
              "      <td>750000</td>\n",
              "      <td>-30</td>\n",
              "      <td>990</td>\n",
              "      <td>326</td>\n",
              "      <td>-45</td>\n",
              "      <td>972</td>\n",
              "      <td>181</td>\n",
              "      <td>-38</td>\n",
              "      <td>1000</td>\n",
              "      <td>29</td>\n",
              "      <td>0</td>\n",
              "    </tr>\n",
              "    <tr>\n",
              "      <th>1</th>\n",
              "      <td>750015</td>\n",
              "      <td>-30</td>\n",
              "      <td>1000</td>\n",
              "      <td>356</td>\n",
              "      <td>-18</td>\n",
              "      <td>981</td>\n",
              "      <td>212</td>\n",
              "      <td>-48</td>\n",
              "      <td>1028</td>\n",
              "      <td>29</td>\n",
              "      <td>0</td>\n",
              "    </tr>\n",
              "    <tr>\n",
              "      <th>2</th>\n",
              "      <td>750031</td>\n",
              "      <td>-20</td>\n",
              "      <td>990</td>\n",
              "      <td>336</td>\n",
              "      <td>18</td>\n",
              "      <td>981</td>\n",
              "      <td>222</td>\n",
              "      <td>-38</td>\n",
              "      <td>1038</td>\n",
              "      <td>9</td>\n",
              "      <td>0</td>\n",
              "    </tr>\n",
              "    <tr>\n",
              "      <th>3</th>\n",
              "      <td>750046</td>\n",
              "      <td>-20</td>\n",
              "      <td>1000</td>\n",
              "      <td>316</td>\n",
              "      <td>36</td>\n",
              "      <td>990</td>\n",
              "      <td>222</td>\n",
              "      <td>-19</td>\n",
              "      <td>1038</td>\n",
              "      <td>9</td>\n",
              "      <td>0</td>\n",
              "    </tr>\n",
              "    <tr>\n",
              "      <th>4</th>\n",
              "      <td>750062</td>\n",
              "      <td>0</td>\n",
              "      <td>990</td>\n",
              "      <td>316</td>\n",
              "      <td>36</td>\n",
              "      <td>990</td>\n",
              "      <td>212</td>\n",
              "      <td>-29</td>\n",
              "      <td>1038</td>\n",
              "      <td>29</td>\n",
              "      <td>0</td>\n",
              "    </tr>\n",
              "  </tbody>\n",
              "</table>\n",
              "</div>"
            ],
            "text/plain": [
              "        0   1     2    3   4    5    6   7     8   9  y\n",
              "0  750000 -30   990  326 -45  972  181 -38  1000  29  0\n",
              "1  750015 -30  1000  356 -18  981  212 -48  1028  29  0\n",
              "2  750031 -20   990  336  18  981  222 -38  1038   9  0\n",
              "3  750046 -20  1000  316  36  990  222 -19  1038   9  0\n",
              "4  750062   0   990  316  36  990  212 -29  1038  29  0"
            ]
          },
          "metadata": {
            "tags": []
          },
          "execution_count": 107
        }
      ]
    },
    {
      "cell_type": "markdown",
      "metadata": {
        "id": "9MlWGMCUFXmB"
      },
      "source": [
        "#*Second Dataset*"
      ]
    },
    {
      "cell_type": "code",
      "metadata": {
        "colab": {
          "base_uri": "https://localhost:8080/",
          "height": 204
        },
        "id": "8HXKun35_Kk0",
        "outputId": "85b7b0e9-7261-43aa-8b00-12aaeed16d73"
      },
      "source": [
        "# Load second dataset\n",
        "\n",
        "df = pd.read_csv('./dataset2.arff', header=None)\n",
        "df = df.rename(columns={14: 'y'})\n",
        "df.insert(loc=0, column='id', value=0)\n",
        "df.head()"
      ],
      "execution_count": 129,
      "outputs": [
        {
          "output_type": "execute_result",
          "data": {
            "text/html": [
              "<div>\n",
              "<style scoped>\n",
              "    .dataframe tbody tr th:only-of-type {\n",
              "        vertical-align: middle;\n",
              "    }\n",
              "\n",
              "    .dataframe tbody tr th {\n",
              "        vertical-align: top;\n",
              "    }\n",
              "\n",
              "    .dataframe thead th {\n",
              "        text-align: right;\n",
              "    }\n",
              "</style>\n",
              "<table border=\"1\" class=\"dataframe\">\n",
              "  <thead>\n",
              "    <tr style=\"text-align: right;\">\n",
              "      <th></th>\n",
              "      <th>id</th>\n",
              "      <th>0</th>\n",
              "      <th>1</th>\n",
              "      <th>2</th>\n",
              "      <th>3</th>\n",
              "      <th>4</th>\n",
              "      <th>5</th>\n",
              "      <th>6</th>\n",
              "      <th>7</th>\n",
              "      <th>8</th>\n",
              "      <th>9</th>\n",
              "      <th>10</th>\n",
              "      <th>11</th>\n",
              "      <th>12</th>\n",
              "      <th>13</th>\n",
              "      <th>y</th>\n",
              "    </tr>\n",
              "  </thead>\n",
              "  <tbody>\n",
              "    <tr>\n",
              "      <th>0</th>\n",
              "      <td>0</td>\n",
              "      <td>4329.23</td>\n",
              "      <td>4009.23</td>\n",
              "      <td>4289.23</td>\n",
              "      <td>4148.21</td>\n",
              "      <td>4350.26</td>\n",
              "      <td>4586.15</td>\n",
              "      <td>4096.92</td>\n",
              "      <td>4641.03</td>\n",
              "      <td>4222.05</td>\n",
              "      <td>4238.46</td>\n",
              "      <td>4211.28</td>\n",
              "      <td>4280.51</td>\n",
              "      <td>4635.90</td>\n",
              "      <td>4393.85</td>\n",
              "      <td>0</td>\n",
              "    </tr>\n",
              "    <tr>\n",
              "      <th>1</th>\n",
              "      <td>0</td>\n",
              "      <td>4324.62</td>\n",
              "      <td>4004.62</td>\n",
              "      <td>4293.85</td>\n",
              "      <td>4148.72</td>\n",
              "      <td>4342.05</td>\n",
              "      <td>4586.67</td>\n",
              "      <td>4097.44</td>\n",
              "      <td>4638.97</td>\n",
              "      <td>4210.77</td>\n",
              "      <td>4226.67</td>\n",
              "      <td>4207.69</td>\n",
              "      <td>4279.49</td>\n",
              "      <td>4632.82</td>\n",
              "      <td>4384.10</td>\n",
              "      <td>0</td>\n",
              "    </tr>\n",
              "    <tr>\n",
              "      <th>2</th>\n",
              "      <td>0</td>\n",
              "      <td>4327.69</td>\n",
              "      <td>4006.67</td>\n",
              "      <td>4295.38</td>\n",
              "      <td>4156.41</td>\n",
              "      <td>4336.92</td>\n",
              "      <td>4583.59</td>\n",
              "      <td>4096.92</td>\n",
              "      <td>4630.26</td>\n",
              "      <td>4207.69</td>\n",
              "      <td>4222.05</td>\n",
              "      <td>4206.67</td>\n",
              "      <td>4282.05</td>\n",
              "      <td>4628.72</td>\n",
              "      <td>4389.23</td>\n",
              "      <td>0</td>\n",
              "    </tr>\n",
              "    <tr>\n",
              "      <th>3</th>\n",
              "      <td>0</td>\n",
              "      <td>4328.72</td>\n",
              "      <td>4011.79</td>\n",
              "      <td>4296.41</td>\n",
              "      <td>4155.90</td>\n",
              "      <td>4343.59</td>\n",
              "      <td>4582.56</td>\n",
              "      <td>4097.44</td>\n",
              "      <td>4630.77</td>\n",
              "      <td>4217.44</td>\n",
              "      <td>4235.38</td>\n",
              "      <td>4210.77</td>\n",
              "      <td>4287.69</td>\n",
              "      <td>4632.31</td>\n",
              "      <td>4396.41</td>\n",
              "      <td>0</td>\n",
              "    </tr>\n",
              "    <tr>\n",
              "      <th>4</th>\n",
              "      <td>0</td>\n",
              "      <td>4326.15</td>\n",
              "      <td>4011.79</td>\n",
              "      <td>4292.31</td>\n",
              "      <td>4151.28</td>\n",
              "      <td>4347.69</td>\n",
              "      <td>4586.67</td>\n",
              "      <td>4095.90</td>\n",
              "      <td>4627.69</td>\n",
              "      <td>4210.77</td>\n",
              "      <td>4244.10</td>\n",
              "      <td>4212.82</td>\n",
              "      <td>4288.21</td>\n",
              "      <td>4632.82</td>\n",
              "      <td>4398.46</td>\n",
              "      <td>0</td>\n",
              "    </tr>\n",
              "  </tbody>\n",
              "</table>\n",
              "</div>"
            ],
            "text/plain": [
              "   id        0        1        2  ...       11       12       13  y\n",
              "0   0  4329.23  4009.23  4289.23  ...  4280.51  4635.90  4393.85  0\n",
              "1   0  4324.62  4004.62  4293.85  ...  4279.49  4632.82  4384.10  0\n",
              "2   0  4327.69  4006.67  4295.38  ...  4282.05  4628.72  4389.23  0\n",
              "3   0  4328.72  4011.79  4296.41  ...  4287.69  4632.31  4396.41  0\n",
              "4   0  4326.15  4011.79  4292.31  ...  4288.21  4632.82  4398.46  0\n",
              "\n",
              "[5 rows x 16 columns]"
            ]
          },
          "metadata": {
            "tags": []
          },
          "execution_count": 129
        }
      ]
    },
    {
      "cell_type": "markdown",
      "metadata": {
        "id": "fgOSa3YY_t-B"
      },
      "source": [
        "# Dataset preprocessing"
      ]
    },
    {
      "cell_type": "code",
      "metadata": {
        "id": "VeReTIrTvyw1"
      },
      "source": [
        "# Create training and testing sets\n",
        "\n",
        "train, test = train_test_split(df, test_size=0.1)"
      ],
      "execution_count": 130,
      "outputs": []
    },
    {
      "cell_type": "code",
      "metadata": {
        "colab": {
          "base_uri": "https://localhost:8080/"
        },
        "id": "uNBKMIz2ub5q",
        "outputId": "08bfa6a4-0bf6-4fac-be69-70c60fedc53d"
      },
      "source": [
        "# Select non - seasure points from the training set for the enclosing ball\n",
        "\n",
        "X = train[train.y == 0]\n",
        "\n",
        "# Remove generated row names and class column (y)\n",
        "\n",
        "X.drop(X.columns[0], axis=1, inplace=True)\n",
        "X.drop(X.columns[len(X.columns)-1], axis=1, inplace=True)\n",
        "\n",
        "# Normalize data\n",
        "X = (X - X.min()) / (X.max() -X.min())\n",
        "\n",
        "# Reset index\n",
        "X = X.reset_index(drop=True)"
      ],
      "execution_count": 131,
      "outputs": [
        {
          "output_type": "stream",
          "text": [
            "/usr/local/lib/python3.7/dist-packages/pandas/core/frame.py:4174: SettingWithCopyWarning: \n",
            "A value is trying to be set on a copy of a slice from a DataFrame\n",
            "\n",
            "See the caveats in the documentation: https://pandas.pydata.org/pandas-docs/stable/user_guide/indexing.html#returning-a-view-versus-a-copy\n",
            "  errors=errors,\n"
          ],
          "name": "stderr"
        }
      ]
    },
    {
      "cell_type": "code",
      "metadata": {
        "colab": {
          "base_uri": "https://localhost:8080/"
        },
        "id": "fdnIXZ7EBH_g",
        "outputId": "fa4fbca9-9175-4e94-ef01-7315b8164496"
      },
      "source": [
        "n_samples = len(X)\n",
        "n_features = len(X.columns)\n",
        "\n",
        "print(n_samples)"
      ],
      "execution_count": 132,
      "outputs": [
        {
          "output_type": "stream",
          "text": [
            "7420\n"
          ],
          "name": "stdout"
        }
      ]
    },
    {
      "cell_type": "markdown",
      "metadata": {
        "id": "kxbv7h3YKXhy"
      },
      "source": [
        "# Random dataset"
      ]
    },
    {
      "cell_type": "code",
      "metadata": {
        "id": "HbVqDEDk9Ar1"
      },
      "source": [
        "# Generate random easily separable dataset\n",
        "\n",
        "X = []\n",
        "for i in range(7000):\n",
        "  X.append(np.random.uniform(low = 0, high = 0.7, size=(10,)))\n",
        "\n",
        "X = pd.DataFrame(X)\n",
        "n_samples = len(X)\n",
        "n_features = len(X.columns)"
      ],
      "execution_count": 87,
      "outputs": []
    },
    {
      "cell_type": "code",
      "metadata": {
        "id": "UQeZQTTi_CFj"
      },
      "source": [
        "# Generate random testing samples\n",
        "\n",
        "Y = []\n",
        "for i in range(3000):\n",
        "  Y.append(np.random.uniform(low = 0.7, high = 1, size=(10,)))\n",
        "\n",
        "Y = pd.DataFrame(Y)"
      ],
      "execution_count": 88,
      "outputs": []
    },
    {
      "cell_type": "markdown",
      "metadata": {
        "id": "tHhzqDrw_1Kr"
      },
      "source": [
        "#**First algorithm implementation**"
      ]
    },
    {
      "cell_type": "code",
      "metadata": {
        "colab": {
          "base_uri": "https://localhost:8080/"
        },
        "id": "e2NWYWS_wEXs",
        "outputId": "286da7dc-2775-40ba-c817-ad596c7389f8"
      },
      "source": [
        "# Find the most different row from row 1:\n",
        "\n",
        "first_row = X.iloc[0].values\n",
        "max, alpha = 0, 0\n",
        "for i in range(1, n_samples-1):\n",
        "  row = X.iloc[i].values\n",
        "  distance = math.sqrt(sum((row - first_row) ** 2))\n",
        "  if distance > max:\n",
        "    max = distance\n",
        "    alpha = i\n",
        "\n",
        "\n",
        "# Find the most different row from the minimum:\n",
        "\n",
        "min_row = X.iloc[alpha].values\n",
        "max, beta = 0, 0\n",
        "for i in range(n_samples):\n",
        "  if i != alpha:\n",
        "    row = X.iloc[i].values\n",
        "    distance = math.sqrt(sum((row - min_row) ** 2))\n",
        "    if distance > max:\n",
        "      max = distance\n",
        "      beta = i\n",
        "\n",
        "print(alpha)\n",
        "print(beta)"
      ],
      "execution_count": 133,
      "outputs": [
        {
          "output_type": "stream",
          "text": [
            "3337\n",
            "7302\n"
          ],
          "name": "stdout"
        }
      ]
    },
    {
      "cell_type": "markdown",
      "metadata": {
        "id": "VLkn--ABIeV6"
      },
      "source": [
        "![objective-function.PNG](data:image/png;base64,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)"
      ]
    },
    {
      "cell_type": "code",
      "metadata": {
        "id": "ttBGGgJ5Bsy8"
      },
      "source": [
        "def objective_function(u_vector):\n",
        "  # Refers to the first term of the equation\n",
        "  sum = 0\n",
        "\n",
        "  # Refers to the vector in the second term\n",
        "  product = np.zeros(n_features)\n",
        "  for i in range(n_samples):\n",
        "\n",
        "    # Extract row\n",
        "    row = X.iloc[i].values\n",
        "\n",
        "    # Transpose is not needed for vectors multiplication\n",
        "    sum += u_vector[i] * np.dot(row.T, row)\n",
        "    product += u_vector[i] * row\n",
        "    \n",
        "  return sum - np.dot(product.T, product)"
      ],
      "execution_count": 134,
      "outputs": []
    },
    {
      "cell_type": "code",
      "metadata": {
        "colab": {
          "base_uri": "https://localhost:8080/"
        },
        "id": "L_OBJCG18vGK",
        "outputId": "1bda70e6-7130-4d40-a17d-e67efeee389a"
      },
      "source": [
        "# Initialize vector u \n",
        "u = np.zeros(n_samples)\n",
        "u[alpha] = 0.5\n",
        "u[beta] = 0.5\n",
        "\n",
        "a = np.zeros(n_samples)\n",
        "\n",
        "# Initialize set of current points in ball (min and max)\n",
        "S = set()\n",
        "S.add(alpha)\n",
        "S.add(beta)\n",
        "\n",
        "# Calculate the ball center - vector of average values among points of size n_features\n",
        "c = []\n",
        "for i in range(n_samples):\n",
        "  c.append(u[i] * X.iloc[i].values)\n",
        "c = np.average(c, axis=0)\n",
        "\n",
        "# Initialize gamma vector - calculate objective function\n",
        "gamma = objective_function(u)\n",
        "\n",
        "# Calculate k - index of point most distant from the center\n",
        "max, k = 0, 0\n",
        "for i in range(n_samples):\n",
        "    row = X.iloc[i].values\n",
        "    distance = math.sqrt(sum((row - c) ** 2))\n",
        "    if distance > max:\n",
        "      max = distance\n",
        "      k = i\n",
        "\n",
        "# Calculate delta value\n",
        "delta = (math.sqrt(sum((X.iloc[k].values - c) ** 2)) / gamma) - 1\n",
        "print(math.sqrt(sum((X.iloc[k].values - c) ** 2)))\n",
        "print(gamma)\n",
        "print(delta)"
      ],
      "execution_count": 135,
      "outputs": [
        {
          "output_type": "stream",
          "text": [
            "2.7608936083814326\n",
            "2.0078848010537387\n",
            "0.37502590135276415\n"
          ],
          "name": "stdout"
        }
      ]
    },
    {
      "cell_type": "code",
      "metadata": {
        "colab": {
          "base_uri": "https://localhost:8080/"
        },
        "id": "GtN1_2j8QbOy",
        "outputId": "a6ad4572-740b-44f0-a6b8-cbe218210f9b"
      },
      "source": [
        "# Set threshold\n",
        "e = 0.01\n",
        "\n",
        "# Initialize lists for plots\n",
        "delta_list = []\n",
        "S_list = []\n",
        "cpu_time = []\n",
        "\n",
        "# Set the first iteration at time t = 0\n",
        "cpu_time.append(0)\n",
        "delta_list.append(delta)\n",
        "S_list.append(len(S))\n",
        "\n",
        "# Start the cpu time clock\n",
        "t0 = time.perf_counter()\n",
        "\n",
        "# Loop until delta reaches theshold\n",
        "while delta > (1 + e) ** 2 - 1:\n",
        "\n",
        "  # Calculate lambda for iteration\n",
        "  lambda_ = delta / (2 * (1 + delta))\n",
        "\n",
        "  # Generate unit vector a\n",
        "  a = np.zeros(len(a))\n",
        "  a[k] = 1\n",
        "\n",
        "  # Update u\n",
        "  u = (1 - lambda_) * u + lambda_ * a\n",
        "\n",
        "  # Update c\n",
        "  c = (1 - lambda_) * c + lambda_ * X.iloc[k].values\n",
        "\n",
        "  # Add point to the set of points in the ball\n",
        "  S.add(k)\n",
        "\n",
        "  # Calculate objective function\n",
        "  gamma = objective_function(u)\n",
        "\n",
        "  # Calculate k - index of point most distant from the center\n",
        "  max, k = 0, 0\n",
        "  for i in range(n_samples):\n",
        "      row = X.iloc[i].values\n",
        "      distance = math.sqrt(sum((row - c) ** 2))\n",
        "      if distance > max:\n",
        "        max = distance\n",
        "        k = i\n",
        "\n",
        "  # Calculate delta value\n",
        "  delta = math.sqrt(sum((X.iloc[k].values - c) ** 2)) / gamma - 1\n",
        "  print(delta)\n",
        "\n",
        "  # Plot delta and S\n",
        "  delta_list.append(delta)\n",
        "  S_list.append(len(S))\n",
        "\n",
        "  # Calculate CPU time\n",
        "  t1 = time.perf_counter()\n",
        "  cpu_time.append(t1 - t0)\n",
        "\n",
        "radius = math.sqrt((1 + delta) * gamma)\n",
        "\n",
        "print('Core set:')\n",
        "print(S)\n",
        "print('Center: ')\n",
        "print(c)\n",
        "print('Radius: ')\n",
        "print(radius)"
      ],
      "execution_count": 136,
      "outputs": [
        {
          "output_type": "stream",
          "text": [
            "0.21001549941345998\n",
            "0.16039918082843152\n",
            "-0.005800085569916069\n",
            "Core set:\n",
            "{3337, 5892, 7302}\n",
            "Center: \n",
            "[0.19681069 0.06912341 0.12817057 0.19676269 0.19680717 0.00296108\n",
            " 0.19676283 0.10683192 0.23532585 0.06915859 0.24254153 0.26094937\n",
            " 0.14164872 0.03300058]\n",
            "Radius: \n",
            "1.4682897990942334\n"
          ],
          "name": "stdout"
        }
      ]
    },
    {
      "cell_type": "code",
      "metadata": {
        "colab": {
          "base_uri": "https://localhost:8080/",
          "height": 507
        },
        "id": "qEOPGU25u77c",
        "outputId": "066c6bd7-8a86-4595-e6c6-9d67b03ba8b0"
      },
      "source": [
        "# Create the test data\n",
        "\n",
        "Y = train[train.y == 1]\n",
        "\n",
        "# Remove generated row names and class column (y)\n",
        "\n",
        "Y.drop(Y.columns[0], axis=1, inplace=True)\n",
        "Y.drop(Y.columns[len(Y.columns)-1], axis=1, inplace=True)\n",
        "\n",
        "# Normalize data\n",
        "Y = (Y - Y.min()) / (Y.max() - Y.min())\n",
        "\n",
        "Y.reset_index(drop=True)"
      ],
      "execution_count": 137,
      "outputs": [
        {
          "output_type": "stream",
          "text": [
            "/usr/local/lib/python3.7/dist-packages/pandas/core/frame.py:4174: SettingWithCopyWarning: \n",
            "A value is trying to be set on a copy of a slice from a DataFrame\n",
            "\n",
            "See the caveats in the documentation: https://pandas.pydata.org/pandas-docs/stable/user_guide/indexing.html#returning-a-view-versus-a-copy\n",
            "  errors=errors,\n"
          ],
          "name": "stderr"
        },
        {
          "output_type": "execute_result",
          "data": {
            "text/html": [
              "<div>\n",
              "<style scoped>\n",
              "    .dataframe tbody tr th:only-of-type {\n",
              "        vertical-align: middle;\n",
              "    }\n",
              "\n",
              "    .dataframe tbody tr th {\n",
              "        vertical-align: top;\n",
              "    }\n",
              "\n",
              "    .dataframe thead th {\n",
              "        text-align: right;\n",
              "    }\n",
              "</style>\n",
              "<table border=\"1\" class=\"dataframe\">\n",
              "  <thead>\n",
              "    <tr style=\"text-align: right;\">\n",
              "      <th></th>\n",
              "      <th>0</th>\n",
              "      <th>1</th>\n",
              "      <th>2</th>\n",
              "      <th>3</th>\n",
              "      <th>4</th>\n",
              "      <th>5</th>\n",
              "      <th>6</th>\n",
              "      <th>7</th>\n",
              "      <th>8</th>\n",
              "      <th>9</th>\n",
              "      <th>10</th>\n",
              "      <th>11</th>\n",
              "      <th>12</th>\n",
              "      <th>13</th>\n",
              "    </tr>\n",
              "  </thead>\n",
              "  <tbody>\n",
              "    <tr>\n",
              "      <th>0</th>\n",
              "      <td>0.000299</td>\n",
              "      <td>0.063667</td>\n",
              "      <td>0.021142</td>\n",
              "      <td>0.047586</td>\n",
              "      <td>0.032695</td>\n",
              "      <td>0.880255</td>\n",
              "      <td>0.958352</td>\n",
              "      <td>0.281039</td>\n",
              "      <td>0.000192</td>\n",
              "      <td>0.793954</td>\n",
              "      <td>0.031620</td>\n",
              "      <td>0.957238</td>\n",
              "      <td>0.000652</td>\n",
              "      <td>0.155071</td>\n",
              "    </tr>\n",
              "    <tr>\n",
              "      <th>1</th>\n",
              "      <td>0.000254</td>\n",
              "      <td>0.039552</td>\n",
              "      <td>0.017873</td>\n",
              "      <td>0.038897</td>\n",
              "      <td>0.010750</td>\n",
              "      <td>0.865751</td>\n",
              "      <td>0.948497</td>\n",
              "      <td>0.207583</td>\n",
              "      <td>0.000171</td>\n",
              "      <td>0.727371</td>\n",
              "      <td>0.016380</td>\n",
              "      <td>0.955054</td>\n",
              "      <td>0.000479</td>\n",
              "      <td>0.110669</td>\n",
              "    </tr>\n",
              "    <tr>\n",
              "      <th>2</th>\n",
              "      <td>0.000387</td>\n",
              "      <td>0.059484</td>\n",
              "      <td>0.024983</td>\n",
              "      <td>0.036253</td>\n",
              "      <td>0.021945</td>\n",
              "      <td>0.872996</td>\n",
              "      <td>0.956137</td>\n",
              "      <td>0.281039</td>\n",
              "      <td>0.000188</td>\n",
              "      <td>0.786433</td>\n",
              "      <td>0.027998</td>\n",
              "      <td>0.959427</td>\n",
              "      <td>0.000597</td>\n",
              "      <td>0.153740</td>\n",
              "    </tr>\n",
              "    <tr>\n",
              "      <th>3</th>\n",
              "      <td>0.000709</td>\n",
              "      <td>0.089393</td>\n",
              "      <td>0.025946</td>\n",
              "      <td>0.073640</td>\n",
              "      <td>0.033140</td>\n",
              "      <td>0.846152</td>\n",
              "      <td>0.952932</td>\n",
              "      <td>0.086094</td>\n",
              "      <td>0.000118</td>\n",
              "      <td>0.827883</td>\n",
              "      <td>0.040571</td>\n",
              "      <td>0.970357</td>\n",
              "      <td>0.001089</td>\n",
              "      <td>0.288936</td>\n",
              "    </tr>\n",
              "    <tr>\n",
              "      <th>4</th>\n",
              "      <td>0.000264</td>\n",
              "      <td>0.049195</td>\n",
              "      <td>0.017296</td>\n",
              "      <td>0.033609</td>\n",
              "      <td>0.018810</td>\n",
              "      <td>0.869373</td>\n",
              "      <td>0.946772</td>\n",
              "      <td>0.255714</td>\n",
              "      <td>0.000163</td>\n",
              "      <td>0.728645</td>\n",
              "      <td>0.010474</td>\n",
              "      <td>0.952382</td>\n",
              "      <td>0.000507</td>\n",
              "      <td>0.120606</td>\n",
              "    </tr>\n",
              "    <tr>\n",
              "      <th>...</th>\n",
              "      <td>...</td>\n",
              "      <td>...</td>\n",
              "      <td>...</td>\n",
              "      <td>...</td>\n",
              "      <td>...</td>\n",
              "      <td>...</td>\n",
              "      <td>...</td>\n",
              "      <td>...</td>\n",
              "      <td>...</td>\n",
              "      <td>...</td>\n",
              "      <td>...</td>\n",
              "      <td>...</td>\n",
              "      <td>...</td>\n",
              "      <td>...</td>\n",
              "    </tr>\n",
              "    <tr>\n",
              "      <th>6057</th>\n",
              "      <td>0.000361</td>\n",
              "      <td>0.085850</td>\n",
              "      <td>0.027674</td>\n",
              "      <td>0.069112</td>\n",
              "      <td>0.026425</td>\n",
              "      <td>0.879534</td>\n",
              "      <td>0.961557</td>\n",
              "      <td>0.205065</td>\n",
              "      <td>0.000108</td>\n",
              "      <td>0.717327</td>\n",
              "      <td>0.022286</td>\n",
              "      <td>0.963070</td>\n",
              "      <td>0.000344</td>\n",
              "      <td>0.148442</td>\n",
              "    </tr>\n",
              "    <tr>\n",
              "      <th>6058</th>\n",
              "      <td>0.000341</td>\n",
              "      <td>0.061735</td>\n",
              "      <td>0.019987</td>\n",
              "      <td>0.034744</td>\n",
              "      <td>0.023290</td>\n",
              "      <td>0.868652</td>\n",
              "      <td>0.945541</td>\n",
              "      <td>0.230389</td>\n",
              "      <td>0.000157</td>\n",
              "      <td>0.795228</td>\n",
              "      <td>0.029714</td>\n",
              "      <td>0.961370</td>\n",
              "      <td>0.000670</td>\n",
              "      <td>0.165667</td>\n",
              "    </tr>\n",
              "    <tr>\n",
              "      <th>6059</th>\n",
              "      <td>0.000264</td>\n",
              "      <td>0.056914</td>\n",
              "      <td>0.018833</td>\n",
              "      <td>0.045318</td>\n",
              "      <td>0.021500</td>\n",
              "      <td>0.880255</td>\n",
              "      <td>0.961063</td>\n",
              "      <td>0.253147</td>\n",
              "      <td>0.000176</td>\n",
              "      <td>0.777639</td>\n",
              "      <td>0.022286</td>\n",
              "      <td>0.951653</td>\n",
              "      <td>0.000555</td>\n",
              "      <td>0.120606</td>\n",
              "    </tr>\n",
              "    <tr>\n",
              "      <th>6060</th>\n",
              "      <td>0.000232</td>\n",
              "      <td>0.069134</td>\n",
              "      <td>0.012683</td>\n",
              "      <td>0.036636</td>\n",
              "      <td>0.019710</td>\n",
              "      <td>0.874453</td>\n",
              "      <td>0.942581</td>\n",
              "      <td>0.220270</td>\n",
              "      <td>0.000192</td>\n",
              "      <td>0.758801</td>\n",
              "      <td>0.024570</td>\n",
              "      <td>0.947763</td>\n",
              "      <td>0.000670</td>\n",
              "      <td>0.091453</td>\n",
              "    </tr>\n",
              "    <tr>\n",
              "      <th>6061</th>\n",
              "      <td>0.000681</td>\n",
              "      <td>0.108360</td>\n",
              "      <td>0.038247</td>\n",
              "      <td>0.084591</td>\n",
              "      <td>0.044336</td>\n",
              "      <td>0.873732</td>\n",
              "      <td>0.951452</td>\n",
              "      <td>0.101298</td>\n",
              "      <td>0.000051</td>\n",
              "      <td>0.733666</td>\n",
              "      <td>0.033715</td>\n",
              "      <td>0.972546</td>\n",
              "      <td>0.000999</td>\n",
              "      <td>0.249173</td>\n",
              "    </tr>\n",
              "  </tbody>\n",
              "</table>\n",
              "<p>6062 rows × 14 columns</p>\n",
              "</div>"
            ],
            "text/plain": [
              "            0         1         2   ...        11        12        13\n",
              "0     0.000299  0.063667  0.021142  ...  0.957238  0.000652  0.155071\n",
              "1     0.000254  0.039552  0.017873  ...  0.955054  0.000479  0.110669\n",
              "2     0.000387  0.059484  0.024983  ...  0.959427  0.000597  0.153740\n",
              "3     0.000709  0.089393  0.025946  ...  0.970357  0.001089  0.288936\n",
              "4     0.000264  0.049195  0.017296  ...  0.952382  0.000507  0.120606\n",
              "...        ...       ...       ...  ...       ...       ...       ...\n",
              "6057  0.000361  0.085850  0.027674  ...  0.963070  0.000344  0.148442\n",
              "6058  0.000341  0.061735  0.019987  ...  0.961370  0.000670  0.165667\n",
              "6059  0.000264  0.056914  0.018833  ...  0.951653  0.000555  0.120606\n",
              "6060  0.000232  0.069134  0.012683  ...  0.947763  0.000670  0.091453\n",
              "6061  0.000681  0.108360  0.038247  ...  0.972546  0.000999  0.249173\n",
              "\n",
              "[6062 rows x 14 columns]"
            ]
          },
          "metadata": {
            "tags": []
          },
          "execution_count": 137
        }
      ]
    },
    {
      "cell_type": "code",
      "metadata": {
        "colab": {
          "base_uri": "https://localhost:8080/"
        },
        "id": "46VEUJ2HdUd_",
        "outputId": "fdef9dee-a7fd-4530-bf29-82a4327a4dae"
      },
      "source": [
        "# Test accuracy on new points\n",
        "\n",
        "detected_test = 0\n",
        "\n",
        "for i  in range(len(Y)):\n",
        "  dist = math.sqrt(sum((Y.iloc[i].values - c) ** 2))\n",
        "  if dist > radius:\n",
        "    detected_test += 1\n",
        "\n",
        "print(detected_test / len(Y))"
      ],
      "execution_count": 138,
      "outputs": [
        {
          "output_type": "stream",
          "text": [
            "1.0\n"
          ],
          "name": "stdout"
        }
      ]
    },
    {
      "cell_type": "code",
      "metadata": {
        "colab": {
          "base_uri": "https://localhost:8080/"
        },
        "id": "RO2s2dcJepbn",
        "outputId": "8d454d92-ef88-488b-b7ce-4a5a8e04e6b7"
      },
      "source": [
        "# Test if all training points are in the ball\n",
        "\n",
        "in_ball = 0\n",
        "\n",
        "for i  in range(len(X)):\n",
        "  dist = math.sqrt(sum((X.iloc[i].values - c) ** 2))\n",
        "  if dist < radius:\n",
        "    in_ball += 1\n",
        "\n",
        "print(in_ball / len(X))"
      ],
      "execution_count": 139,
      "outputs": [
        {
          "output_type": "stream",
          "text": [
            "0.9995956873315364\n"
          ],
          "name": "stdout"
        }
      ]
    },
    {
      "cell_type": "code",
      "metadata": {
        "colab": {
          "base_uri": "https://localhost:8080/"
        },
        "id": "fe77qmVoZXvF",
        "outputId": "bf49d2ed-e590-4562-9154-da19533dc376"
      },
      "source": [
        "# Check if test points are in the ball\n",
        "\n",
        "# Create the test data\n",
        "\n",
        "M = test[test.y == 0]\n",
        "\n",
        "# Remove generated row names and class column (y)\n",
        "\n",
        "M.drop(M.columns[0], axis=1, inplace=True)\n",
        "M.drop(M.columns[len(M.columns)-1], axis=1, inplace=True)\n",
        "\n",
        "# Normalize data\n",
        "M = (M - M.min()) / (M.max() - M.min())\n",
        "\n",
        "M.reset_index(drop=True)\n",
        "\n",
        "in_ball = 0\n",
        "\n",
        "for i  in range(len(M)):\n",
        "  dist = math.sqrt(sum((M.iloc[i].values - c) ** 2))\n",
        "  if dist < radius:\n",
        "    in_ball += 1\n",
        "\n",
        "print(in_ball / len(M))"
      ],
      "execution_count": 140,
      "outputs": [
        {
          "output_type": "stream",
          "text": [
            "0.9414575866188769\n"
          ],
          "name": "stdout"
        },
        {
          "output_type": "stream",
          "text": [
            "/usr/local/lib/python3.7/dist-packages/pandas/core/frame.py:4174: SettingWithCopyWarning: \n",
            "A value is trying to be set on a copy of a slice from a DataFrame\n",
            "\n",
            "See the caveats in the documentation: https://pandas.pydata.org/pandas-docs/stable/user_guide/indexing.html#returning-a-view-versus-a-copy\n",
            "  errors=errors,\n"
          ],
          "name": "stderr"
        }
      ]
    },
    {
      "cell_type": "markdown",
      "metadata": {
        "id": "pSv5g2QCNZps"
      },
      "source": [
        "# **Second algorithm implementation**"
      ]
    },
    {
      "cell_type": "code",
      "metadata": {
        "colab": {
          "base_uri": "https://localhost:8080/"
        },
        "id": "gNNahtowNhvc",
        "outputId": "d9842a2f-f9ae-422d-b13b-3595c10e5a61"
      },
      "source": [
        "\n",
        "# Find the most different row from row 1:\n",
        "\n",
        "first_row = X.iloc[0].values\n",
        "max, alpha = 0, 0\n",
        "for i in range(1, n_samples-1):\n",
        "  row = X.iloc[i].values\n",
        "  distance = math.sqrt(sum((row - first_row) ** 2))\n",
        "  if distance > max:\n",
        "    max = distance\n",
        "    alpha = i\n",
        "\n",
        "\n",
        "# Find the most different row from the minimum:\n",
        "\n",
        "min_row = X.iloc[alpha].values\n",
        "max, beta = 0, 0\n",
        "for i in range(n_samples):\n",
        "  if i != alpha:\n",
        "    row = X.iloc[i].values\n",
        "    distance = math.sqrt(sum((row - min_row) ** 2))\n",
        "    if distance > max:\n",
        "      max = distance\n",
        "      beta = i\n",
        "\n",
        "print(alpha)\n",
        "print(beta)"
      ],
      "execution_count": 141,
      "outputs": [
        {
          "output_type": "stream",
          "text": [
            "3337\n",
            "7302\n"
          ],
          "name": "stdout"
        }
      ]
    },
    {
      "cell_type": "code",
      "metadata": {
        "colab": {
          "base_uri": "https://localhost:8080/"
        },
        "id": "E_h5MblZJRxl",
        "outputId": "64ae6613-a5bc-4031-8a51-84612c74169b"
      },
      "source": [
        "# Initialize vector u \n",
        "u = np.zeros(n_samples)\n",
        "u[alpha] = 0.5\n",
        "u[beta] = 0.5\n",
        "\n",
        "# Initialize set of current points in ball (min and max)\n",
        "S = set()\n",
        "S.add(alpha)\n",
        "S.add(beta)\n",
        "\n",
        "# Calculate the ball center - vector of average values among points of size n_features\n",
        "c = []\n",
        "for i in range(n_samples):\n",
        "  c.append(u[i] * X.iloc[i].values)\n",
        "c = np.average(c, axis=0)\n",
        "\n",
        "# Initialize gamma vector - calculate objective function\n",
        "gamma = objective_function(u)\n",
        "\n",
        "# Calculate k - index of point most distant from the center\n",
        "max, k = 0, 0\n",
        "for i in range(n_samples):\n",
        "    row = X.iloc[i].values\n",
        "    distance = math.sqrt(sum((row - c) ** 2))\n",
        "    if distance > max:\n",
        "      max = distance\n",
        "      k = i\n",
        "\n",
        "# Calculate ksi - index of point closest to the center\n",
        "# out of all points in the core set\n",
        "\n",
        "ksi = alpha\n",
        "min = math.sqrt(sum((X.iloc[alpha].values - c) ** 2))\n",
        "for i in S:\n",
        "    row = X.iloc[i].values\n",
        "    distance = math.sqrt(sum((row - c) ** 2))\n",
        "    if distance < min:\n",
        "      min = distance\n",
        "      ksi = i\n",
        "\n",
        "# Calculate delta+\n",
        "delta_plus = (math.sqrt(sum((X.iloc[k].values - c) ** 2)) / gamma) - 1\n",
        "\n",
        "# Calculate delta-\n",
        "delta_minus = 1 - (math.sqrt(sum((X.iloc[ksi].values - c) ** 2)) / gamma)\n",
        "\n",
        "# Calculate delta\n",
        "delta = delta_plus if delta_plus > delta_minus else delta_minus\n",
        "\n",
        "print(gamma)\n",
        "print(delta_plus)\n",
        "print(delta_minus)"
      ],
      "execution_count": 144,
      "outputs": [
        {
          "output_type": "stream",
          "text": [
            "2.0078848010537387\n",
            "0.37502590135276415\n",
            "-0.0799219842537855\n"
          ],
          "name": "stdout"
        }
      ]
    },
    {
      "cell_type": "code",
      "metadata": {
        "colab": {
          "base_uri": "https://localhost:8080/"
        },
        "id": "DgB3TSjtOHtf",
        "outputId": "c06a5dfd-4279-440d-aeee-d0dee3735bfd"
      },
      "source": [
        "# Set threshold\n",
        "e = 0.1\n",
        "\n",
        "# Initialize lists for plots\n",
        "delta_list_2 = []\n",
        "S_list_2 = []\n",
        "cpu_time_2 = []\n",
        "\n",
        "# Set the first iteration at time t = 0\n",
        "cpu_time_2.append(0)\n",
        "delta_list_2.append(delta)\n",
        "S_list_2.append(len(S))\n",
        "\n",
        "# Start the cpu time clock\n",
        "t0 = time.perf_counter()\n",
        "\n",
        "# Loop until delta reaches theshold\n",
        "while delta > (1 + e) ** 2 - 1:\n",
        "\n",
        "  if delta > delta_minus:\n",
        "\n",
        "    # Calculate lambda\n",
        "    lambda_ = delta / (2 * (1 + delta))\n",
        "\n",
        "    # Generate unit vector a (reffered to as e in the pseudocode)\n",
        "    a = np.zeros(n_samples)\n",
        "    a[k] = 1\n",
        "\n",
        "    # Update u\n",
        "    u = (1 - lambda_) * u + lambda_ * a\n",
        "\n",
        "    # Update c\n",
        "    c = (1 - lambda_) * c + lambda_ * X.iloc[k].values\n",
        "\n",
        "    # Add point to the set of points in the ball\n",
        "    S.add(k)\n",
        "    \n",
        "  else:\n",
        "    term_1 = delta_minus / (2  * (1 - delta_minus))\n",
        "    term_2 = u[ksi] / (1 - u[ksi])\n",
        "\n",
        "    lambda_ = term_1 if term_1 < term_2 else term_2\n",
        "\n",
        "    if lambda_ == term_2:\n",
        "      if ksi in S:\n",
        "        S.remove(ksi)\n",
        "\n",
        "    # Generate unit vector a (reffered to as e in the pseudocode)\n",
        "    a = np.zeros(n_samples)\n",
        "    a[ksi] = 1\n",
        "\n",
        "    # Update u\n",
        "    u = (1 + lambda_) * u - lambda_ * a\n",
        "\n",
        "    # Update c\n",
        "    c = (1 + lambda_) * c - lambda_ * X.iloc[ksi].values\n",
        "    \n",
        "\n",
        "  # Calculate objective function\n",
        "  gamma = objective_function(u)\n",
        "\n",
        "  # Calculate k - index of point most distant from the center\n",
        "  max, k = 0, 0\n",
        "  for i in range(n_samples):\n",
        "      row = X.iloc[i].values\n",
        "      distance = math.sqrt(sum((row - c) ** 2))\n",
        "      if distance > max:\n",
        "        max = distance\n",
        "        k = i\n",
        "\n",
        "  # Calculate ksi - index of point closest to the center\n",
        "  # out of all points in the core set S\n",
        "\n",
        "  ksi = list(S).pop()\n",
        "  min = math.sqrt(sum((X.iloc[ksi].values - c) ** 2))\n",
        "  for i in S:\n",
        "      row = X.iloc[i].values\n",
        "      distance = math.sqrt(sum((row - c) ** 2))\n",
        "      if distance < min:\n",
        "        min = distance\n",
        "        ksi = i\n",
        "\n",
        "  # Calculate delta+\n",
        "  delta_plus = (math.sqrt(sum((X.iloc[k].values - c) ** 2)) / gamma) - 1\n",
        "\n",
        "  # Calculate delta-\n",
        "  delta_minus = 1 - (math.sqrt(sum((X.iloc[ksi].values - c) ** 2)) / gamma)\n",
        "\n",
        "  # Calculate delta\n",
        "  delta = delta_plus if delta_plus > delta_minus else delta_minus\n",
        "\n",
        "  print(delta)\n",
        "  print(S)\n",
        "\n",
        "  # Plot delta and core set\n",
        "  delta_list_2.append(delta)\n",
        "  S_list_2.append(len(S))\n",
        "\n",
        "  # Calculate CPU time\n",
        "  t1 = time.perf_counter()\n",
        "  cpu_time_2.append(t1 - t0)\n",
        "\n",
        "radius = math.sqrt((1 + delta) * gamma)\n",
        "\n",
        "print('Core set:')\n",
        "print(S)\n",
        "print('Center: ')\n",
        "print(c)\n",
        "print('Radius: ')\n",
        "print(radius)"
      ],
      "execution_count": 145,
      "outputs": [
        {
          "output_type": "stream",
          "text": [
            "0.21001549941345998\n",
            "{3337, 7302}\n",
            "0.16039918082843152\n",
            "{3337, 7302}\n",
            "Core set:\n",
            "{3337, 7302}\n",
            "Center: \n",
            "[2.11422933e-01 1.03343363e-05 6.34414553e-02 2.11371366e-01\n",
            " 2.11419147e-01 3.18092471e-03 2.11371521e-01 4.05185157e-02\n",
            " 2.11371260e-01 4.81244661e-05 2.11371260e-01 2.06078440e-01\n",
            " 1.52165447e-01 3.54507122e-02]\n",
            "Radius: \n",
            "1.4919461286753348\n"
          ],
          "name": "stdout"
        }
      ]
    },
    {
      "cell_type": "markdown",
      "metadata": {
        "id": "zzG9lPg_2iEI"
      },
      "source": [
        "**Testing accuracy**"
      ]
    },
    {
      "cell_type": "code",
      "metadata": {
        "id": "6rTdEW-OOaXv",
        "colab": {
          "base_uri": "https://localhost:8080/",
          "height": 507
        },
        "outputId": "6c2dc5b8-1775-43d2-c11b-4d3372873543"
      },
      "source": [
        "# Create the test data\n",
        "\n",
        "Y = df[df.y == 1]\n",
        "\n",
        "# Remove generated row names and class column (y)\n",
        "\n",
        "Y.drop(Y.columns[0], axis=1, inplace=True)\n",
        "Y.drop(Y.columns[len(Y.columns)-1], axis=1, inplace=True)\n",
        "\n",
        "# Normalize data\n",
        "Y = (Y - Y.min()) / (Y.max() - Y.min())\n",
        "\n",
        "Y.reset_index(drop=True)"
      ],
      "execution_count": 146,
      "outputs": [
        {
          "output_type": "stream",
          "text": [
            "/usr/local/lib/python3.7/dist-packages/pandas/core/frame.py:4174: SettingWithCopyWarning: \n",
            "A value is trying to be set on a copy of a slice from a DataFrame\n",
            "\n",
            "See the caveats in the documentation: https://pandas.pydata.org/pandas-docs/stable/user_guide/indexing.html#returning-a-view-versus-a-copy\n",
            "  errors=errors,\n"
          ],
          "name": "stderr"
        },
        {
          "output_type": "execute_result",
          "data": {
            "text/html": [
              "<div>\n",
              "<style scoped>\n",
              "    .dataframe tbody tr th:only-of-type {\n",
              "        vertical-align: middle;\n",
              "    }\n",
              "\n",
              "    .dataframe tbody tr th {\n",
              "        vertical-align: top;\n",
              "    }\n",
              "\n",
              "    .dataframe thead th {\n",
              "        text-align: right;\n",
              "    }\n",
              "</style>\n",
              "<table border=\"1\" class=\"dataframe\">\n",
              "  <thead>\n",
              "    <tr style=\"text-align: right;\">\n",
              "      <th></th>\n",
              "      <th>0</th>\n",
              "      <th>1</th>\n",
              "      <th>2</th>\n",
              "      <th>3</th>\n",
              "      <th>4</th>\n",
              "      <th>5</th>\n",
              "      <th>6</th>\n",
              "      <th>7</th>\n",
              "      <th>8</th>\n",
              "      <th>9</th>\n",
              "      <th>10</th>\n",
              "      <th>11</th>\n",
              "      <th>12</th>\n",
              "      <th>13</th>\n",
              "    </tr>\n",
              "  </thead>\n",
              "  <tbody>\n",
              "    <tr>\n",
              "      <th>0</th>\n",
              "      <td>0.000807</td>\n",
              "      <td>0.070420</td>\n",
              "      <td>0.030174</td>\n",
              "      <td>0.046452</td>\n",
              "      <td>0.013440</td>\n",
              "      <td>0.834534</td>\n",
              "      <td>0.956877</td>\n",
              "      <td>0.301279</td>\n",
              "      <td>0.000312</td>\n",
              "      <td>0.878126</td>\n",
              "      <td>0.069141</td>\n",
              "      <td>0.991496</td>\n",
              "      <td>0.002030</td>\n",
              "      <td>0.394985</td>\n",
              "    </tr>\n",
              "    <tr>\n",
              "      <th>1</th>\n",
              "      <td>0.000785</td>\n",
              "      <td>0.062701</td>\n",
              "      <td>0.028251</td>\n",
              "      <td>0.045694</td>\n",
              "      <td>0.009859</td>\n",
              "      <td>0.831633</td>\n",
              "      <td>0.953672</td>\n",
              "      <td>0.298761</td>\n",
              "      <td>0.000292</td>\n",
              "      <td>0.876877</td>\n",
              "      <td>0.070096</td>\n",
              "      <td>0.994168</td>\n",
              "      <td>0.002037</td>\n",
              "      <td>0.387064</td>\n",
              "    </tr>\n",
              "    <tr>\n",
              "      <th>2</th>\n",
              "      <td>0.000765</td>\n",
              "      <td>0.058199</td>\n",
              "      <td>0.025946</td>\n",
              "      <td>0.041916</td>\n",
              "      <td>0.004480</td>\n",
              "      <td>0.822930</td>\n",
              "      <td>0.950222</td>\n",
              "      <td>0.263316</td>\n",
              "      <td>0.000216</td>\n",
              "      <td>0.834154</td>\n",
              "      <td>0.064380</td>\n",
              "      <td>0.991738</td>\n",
              "      <td>0.001933</td>\n",
              "      <td>0.370552</td>\n",
              "    </tr>\n",
              "    <tr>\n",
              "      <th>3</th>\n",
              "      <td>0.000748</td>\n",
              "      <td>0.053058</td>\n",
              "      <td>0.025755</td>\n",
              "      <td>0.035878</td>\n",
              "      <td>0.000899</td>\n",
              "      <td>0.810591</td>\n",
              "      <td>0.948992</td>\n",
              "      <td>0.200030</td>\n",
              "      <td>0.000155</td>\n",
              "      <td>0.793954</td>\n",
              "      <td>0.061906</td>\n",
              "      <td>0.987853</td>\n",
              "      <td>0.001849</td>\n",
              "      <td>0.366585</td>\n",
              "    </tr>\n",
              "    <tr>\n",
              "      <th>4</th>\n",
              "      <td>0.000746</td>\n",
              "      <td>0.051446</td>\n",
              "      <td>0.027292</td>\n",
              "      <td>0.036636</td>\n",
              "      <td>0.004034</td>\n",
              "      <td>0.812048</td>\n",
              "      <td>0.950222</td>\n",
              "      <td>0.134176</td>\n",
              "      <td>0.000129</td>\n",
              "      <td>0.785160</td>\n",
              "      <td>0.063429</td>\n",
              "      <td>0.988824</td>\n",
              "      <td>0.001853</td>\n",
              "      <td>0.369882</td>\n",
              "    </tr>\n",
              "    <tr>\n",
              "      <th>...</th>\n",
              "      <td>...</td>\n",
              "      <td>...</td>\n",
              "      <td>...</td>\n",
              "      <td>...</td>\n",
              "      <td>...</td>\n",
              "      <td>...</td>\n",
              "      <td>...</td>\n",
              "      <td>...</td>\n",
              "      <td>...</td>\n",
              "      <td>...</td>\n",
              "      <td>...</td>\n",
              "      <td>...</td>\n",
              "      <td>...</td>\n",
              "      <td>...</td>\n",
              "    </tr>\n",
              "    <tr>\n",
              "      <th>6718</th>\n",
              "      <td>0.000269</td>\n",
              "      <td>0.053058</td>\n",
              "      <td>0.012492</td>\n",
              "      <td>0.043050</td>\n",
              "      <td>0.021054</td>\n",
              "      <td>0.866472</td>\n",
              "      <td>0.955642</td>\n",
              "      <td>0.286074</td>\n",
              "      <td>0.000212</td>\n",
              "      <td>0.751255</td>\n",
              "      <td>0.015047</td>\n",
              "      <td>0.952866</td>\n",
              "      <td>0.000562</td>\n",
              "      <td>0.121534</td>\n",
              "    </tr>\n",
              "    <tr>\n",
              "      <th>6719</th>\n",
              "      <td>0.000256</td>\n",
              "      <td>0.054017</td>\n",
              "      <td>0.012300</td>\n",
              "      <td>0.038521</td>\n",
              "      <td>0.020155</td>\n",
              "      <td>0.867916</td>\n",
              "      <td>0.954902</td>\n",
              "      <td>0.265834</td>\n",
              "      <td>0.000178</td>\n",
              "      <td>0.741212</td>\n",
              "      <td>0.011808</td>\n",
              "      <td>0.948251</td>\n",
              "      <td>0.000541</td>\n",
              "      <td>0.112286</td>\n",
              "    </tr>\n",
              "    <tr>\n",
              "      <th>6720</th>\n",
              "      <td>0.000257</td>\n",
              "      <td>0.053377</td>\n",
              "      <td>0.012878</td>\n",
              "      <td>0.040789</td>\n",
              "      <td>0.020600</td>\n",
              "      <td>0.867916</td>\n",
              "      <td>0.954657</td>\n",
              "      <td>0.275954</td>\n",
              "      <td>0.000175</td>\n",
              "      <td>0.729894</td>\n",
              "      <td>0.011046</td>\n",
              "      <td>0.947522</td>\n",
              "      <td>0.000552</td>\n",
              "      <td>0.120220</td>\n",
              "    </tr>\n",
              "    <tr>\n",
              "      <th>6721</th>\n",
              "      <td>0.000281</td>\n",
              "      <td>0.054017</td>\n",
              "      <td>0.014605</td>\n",
              "      <td>0.046828</td>\n",
              "      <td>0.021500</td>\n",
              "      <td>0.869373</td>\n",
              "      <td>0.958352</td>\n",
              "      <td>0.301279</td>\n",
              "      <td>0.000200</td>\n",
              "      <td>0.747483</td>\n",
              "      <td>0.012952</td>\n",
              "      <td>0.951894</td>\n",
              "      <td>0.000583</td>\n",
              "      <td>0.134748</td>\n",
              "    </tr>\n",
              "    <tr>\n",
              "      <th>6722</th>\n",
              "      <td>0.000291</td>\n",
              "      <td>0.057560</td>\n",
              "      <td>0.017873</td>\n",
              "      <td>0.046077</td>\n",
              "      <td>0.020600</td>\n",
              "      <td>0.869373</td>\n",
              "      <td>0.962298</td>\n",
              "      <td>0.349361</td>\n",
              "      <td>0.000247</td>\n",
              "      <td>0.763823</td>\n",
              "      <td>0.013713</td>\n",
              "      <td>0.955296</td>\n",
              "      <td>0.000593</td>\n",
              "      <td>0.134748</td>\n",
              "    </tr>\n",
              "  </tbody>\n",
              "</table>\n",
              "<p>6723 rows × 14 columns</p>\n",
              "</div>"
            ],
            "text/plain": [
              "            0         1         2   ...        11        12        13\n",
              "0     0.000807  0.070420  0.030174  ...  0.991496  0.002030  0.394985\n",
              "1     0.000785  0.062701  0.028251  ...  0.994168  0.002037  0.387064\n",
              "2     0.000765  0.058199  0.025946  ...  0.991738  0.001933  0.370552\n",
              "3     0.000748  0.053058  0.025755  ...  0.987853  0.001849  0.366585\n",
              "4     0.000746  0.051446  0.027292  ...  0.988824  0.001853  0.369882\n",
              "...        ...       ...       ...  ...       ...       ...       ...\n",
              "6718  0.000269  0.053058  0.012492  ...  0.952866  0.000562  0.121534\n",
              "6719  0.000256  0.054017  0.012300  ...  0.948251  0.000541  0.112286\n",
              "6720  0.000257  0.053377  0.012878  ...  0.947522  0.000552  0.120220\n",
              "6721  0.000281  0.054017  0.014605  ...  0.951894  0.000583  0.134748\n",
              "6722  0.000291  0.057560  0.017873  ...  0.955296  0.000593  0.134748\n",
              "\n",
              "[6723 rows x 14 columns]"
            ]
          },
          "metadata": {
            "tags": []
          },
          "execution_count": 146
        }
      ]
    },
    {
      "cell_type": "code",
      "metadata": {
        "id": "e4GL3yly2qfS",
        "colab": {
          "base_uri": "https://localhost:8080/"
        },
        "outputId": "2f0d8c9f-789d-45cb-97be-0147e467a037"
      },
      "source": [
        "# Test accuracy on new points\n",
        "\n",
        "detected_test = 0\n",
        "\n",
        "for i  in range(len(Y)):\n",
        "  dist = math.sqrt(sum((Y.iloc[i].values - c) ** 2))\n",
        "  if dist > radius:\n",
        "    detected_test += 1\n",
        "\n",
        "print(detected_test / len(Y))"
      ],
      "execution_count": 147,
      "outputs": [
        {
          "output_type": "stream",
          "text": [
            "1.0\n"
          ],
          "name": "stdout"
        }
      ]
    },
    {
      "cell_type": "code",
      "metadata": {
        "id": "JKzzOmvn2tgl",
        "colab": {
          "base_uri": "https://localhost:8080/"
        },
        "outputId": "f8c3a496-164d-4480-bbc5-31c37c47b61b"
      },
      "source": [
        "# Test if all training points are in the ball\n",
        "\n",
        "in_ball = 0\n",
        "\n",
        "for i  in range(len(X)):\n",
        "  dist = math.sqrt(sum((X.iloc[i].values - c) ** 2))\n",
        "  if dist < radius:\n",
        "    in_ball += 1\n",
        "\n",
        "print(in_ball / len(X))"
      ],
      "execution_count": 148,
      "outputs": [
        {
          "output_type": "stream",
          "text": [
            "0.9995956873315364\n"
          ],
          "name": "stdout"
        }
      ]
    },
    {
      "cell_type": "code",
      "metadata": {
        "id": "x10aHy5B25Nj",
        "colab": {
          "base_uri": "https://localhost:8080/"
        },
        "outputId": "8dca50f8-e078-4086-b27c-37fe224b37aa"
      },
      "source": [
        "# Check if test points are in the ball\n",
        "\n",
        "# Create the test data\n",
        "\n",
        "M = test[test.y == 0]\n",
        "\n",
        "# Remove generated row names and class column (y)\n",
        "\n",
        "M.drop(M.columns[0], axis=1, inplace=True)\n",
        "M.drop(M.columns[len(M.columns)-1], axis=1, inplace=True)\n",
        "\n",
        "# Normalize data\n",
        "M = (M - M.min()) / (M.max() - M.min())\n",
        "\n",
        "M.reset_index(drop=True)\n",
        "\n",
        "in_ball = 0\n",
        "\n",
        "for i  in range(len(M)):\n",
        "  dist = math.sqrt(sum((M.iloc[i].values - c) ** 2))\n",
        "  if dist < radius:\n",
        "    in_ball += 1\n",
        "\n",
        "print(in_ball / len(M))"
      ],
      "execution_count": 149,
      "outputs": [
        {
          "output_type": "stream",
          "text": [
            "0.9354838709677419\n"
          ],
          "name": "stdout"
        },
        {
          "output_type": "stream",
          "text": [
            "/usr/local/lib/python3.7/dist-packages/pandas/core/frame.py:4174: SettingWithCopyWarning: \n",
            "A value is trying to be set on a copy of a slice from a DataFrame\n",
            "\n",
            "See the caveats in the documentation: https://pandas.pydata.org/pandas-docs/stable/user_guide/indexing.html#returning-a-view-versus-a-copy\n",
            "  errors=errors,\n"
          ],
          "name": "stderr"
        }
      ]
    },
    {
      "cell_type": "code",
      "metadata": {
        "id": "mjQWRPvVK7HP",
        "colab": {
          "base_uri": "https://localhost:8080/"
        },
        "outputId": "538f6625-e711-42b8-aa41-9c465c239869"
      },
      "source": [
        "# Check if test points are in the ball\n",
        "\n",
        "# Create the test data\n",
        "\n",
        "N = test[test.y == 1]\n",
        "\n",
        "# Remove generated row names and class column (y)\n",
        "\n",
        "N.drop(N.columns[0], axis=1, inplace=True)\n",
        "N.drop(N.columns[len(N.columns)-1], axis=1, inplace=True)\n",
        "\n",
        "# Normalize data\n",
        "N = (N - N.min()) / (N.max() - N.min())\n",
        "\n",
        "N.reset_index(drop=True)\n",
        "\n",
        "out_ball = 0\n",
        "\n",
        "for i  in range(len(N)):\n",
        "  dist = math.sqrt(sum((N.iloc[i].values - c) ** 2))\n",
        "  if dist > radius:\n",
        "    out_ball += 1\n",
        "\n",
        "print(out_ball / len(N))"
      ],
      "execution_count": 150,
      "outputs": [
        {
          "output_type": "stream",
          "text": [
            "0.09984871406959153\n"
          ],
          "name": "stdout"
        },
        {
          "output_type": "stream",
          "text": [
            "/usr/local/lib/python3.7/dist-packages/pandas/core/frame.py:4174: SettingWithCopyWarning: \n",
            "A value is trying to be set on a copy of a slice from a DataFrame\n",
            "\n",
            "See the caveats in the documentation: https://pandas.pydata.org/pandas-docs/stable/user_guide/indexing.html#returning-a-view-versus-a-copy\n",
            "  errors=errors,\n"
          ],
          "name": "stderr"
        }
      ]
    },
    {
      "cell_type": "markdown",
      "metadata": {
        "id": "VAs2YwJ0UVuB"
      },
      "source": [
        "# Results and plots"
      ]
    },
    {
      "cell_type": "code",
      "metadata": {
        "colab": {
          "base_uri": "https://localhost:8080/",
          "height": 404
        },
        "id": "ESx36qr2Udcj",
        "outputId": "a627dc7f-23fb-430b-f06d-145b1a29684c"
      },
      "source": [
        "import seaborn as sns\n",
        "import matplotlib.pyplot as plt\n",
        "\n",
        "sns.set_style(\"darkgrid\")\n",
        "plt.rcParams[\"figure.figsize\"] = (10,6)\n",
        "\n",
        "\n",
        "# Delta value plots \n",
        "\n",
        "plt.plot(delta_list,'--', linewidth=4)\n",
        "plt.plot(delta_list_2)\n",
        "plt.legend(['First algorithm', 'Second algorithm'])\n",
        "plt.xlabel('Iteration number')\n",
        "plt.ylabel('delta')\n",
        "plt.title('Delta value per iteration')\n",
        "plt.savefig('dataset-2-delta.png')\n",
        "plt.show()"
      ],
      "execution_count": 152,
      "outputs": [
        {
          "output_type": "display_data",
          "data": {
            "image/png": "[encoded data removed]",
            "text/plain": [
              "<Figure size 720x432 with 1 Axes>"
            ]
          },
          "metadata": {
            "tags": []
          }
        }
      ]
    },
    {
      "cell_type": "code",
      "metadata": {
        "colab": {
          "base_uri": "https://localhost:8080/",
          "height": 404
        },
        "id": "x2kYvl8KUvyU",
        "outputId": "7bc032e5-7425-47b4-a5da-0a6e20934d3d"
      },
      "source": [
        "# Core set plots \n",
        "\n",
        "plt.plot(S_list,'--', linewidth=4)\n",
        "plt.plot(S_list_2)\n",
        "plt.legend(['First algorithm', 'Second algorithm'])\n",
        "plt.xlabel('Iteration number')\n",
        "plt.ylabel('Core set')\n",
        "plt.title('Size of the core set per iteration')\n",
        "plt.savefig('dataset-2-S.png')\n",
        "plt.show()"
      ],
      "execution_count": 153,
      "outputs": [
        {
          "output_type": "display_data",
          "data": {
            "image/png": "[encoded data removed]",
            "text/plain": [
              "<Figure size 720x432 with 1 Axes>"
            ]
          },
          "metadata": {
            "tags": []
          }
        }
      ]
    },
    {
      "cell_type": "code",
      "metadata": {
        "colab": {
          "base_uri": "https://localhost:8080/",
          "height": 421
        },
        "id": "6VhoNn2_VviE",
        "outputId": "ae5d6aef-b48e-4afc-bf72-474f74adf8a4"
      },
      "source": [
        "# Delta over CPU plots\n",
        "\n",
        "plt.plot(cpu_time, delta_list, '--', linewidth=4)\n",
        "plt.plot(cpu_time_2, delta_list_2)\n",
        "plt.legend(['First algorithm', 'Second algorithm'])\n",
        "plt.xlabel('CPU time')\n",
        "plt.ylabel('delta')\n",
        "plt.savefig('dataset-2-delta-cpu.png')\n",
        "plt.title('Delta value over CPU time')"
      ],
      "execution_count": 154,
      "outputs": [
        {
          "output_type": "execute_result",
          "data": {
            "text/plain": [
              "Text(0.5, 1.0, 'Delta value over CPU time')"
            ]
          },
          "metadata": {
            "tags": []
          },
          "execution_count": 154
        },
        {
          "output_type": "display_data",
          "data": {
            "image/png": "[encoded data removed]",
            "text/plain": [
              "<Figure size 720x432 with 1 Axes>"
            ]
          },
          "metadata": {
            "tags": []
          }
        }
      ]
    },
    {
      "cell_type": "code",
      "metadata": {
        "colab": {
          "base_uri": "https://localhost:8080/",
          "height": 422
        },
        "id": "maPti9WPdFTb",
        "outputId": "553a7f9c-cb73-493a-ce47-a5134682e49a"
      },
      "source": [
        "# Core set over CPU plots\n",
        "\n",
        "plt.plot(cpu_time, S_list, '--', linewidth=4)\n",
        "plt.plot(cpu_time_2, S_list_2)\n",
        "plt.legend(['First algorithm', 'Second algorithm'])\n",
        "plt.xlabel('CPU time')\n",
        "plt.ylabel('Core set')\n",
        "plt.savefig('dataset-2-S-cpu.png')\n",
        "plt.title('Core set size over CPU time')"
      ],
      "execution_count": 155,
      "outputs": [
        {
          "output_type": "execute_result",
          "data": {
            "text/plain": [
              "Text(0.5, 1.0, 'Core set size over CPU time')"
            ]
          },
          "metadata": {
            "tags": []
          },
          "execution_count": 155
        },
        {
          "output_type": "display_data",
          "data": {
            "image/png": "[encoded data removed]",
            "text/plain": [
              "<Figure size 720x432 with 1 Axes>"
            ]
          },
          "metadata": {
            "tags": []
          }
        }
      ]
    }
  ]
}